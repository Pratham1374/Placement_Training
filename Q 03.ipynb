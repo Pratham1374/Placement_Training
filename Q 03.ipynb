{
 "cells": [
  {
   "cell_type": "code",
   "execution_count": null,
   "id": "1bea3e51-f015-4254-a80c-80bc1ac938f8",
   "metadata": {},
   "outputs": [],
   "source": [
    "def is_disarium(num):\n",
    "    total = 0\n",
    "    for idx, digit in enumerate(str(num), start=1):\n",
    "        total += int(digit) ** idx\n",
    "    return total == num\n",
    "def first_n_disarium(n):\n",
    "    result = []\n",
    "    num = 0\n",
    "    while len(result) < n:\n",
    "        if is_disarium(num):\n",
    "            result.append(num)\n",
    "        num += 1\n",
    "    return result\n",
    "def disarium_in_range(start, end):\n",
    "    return [num for num in range(start, end + 1) if is_disarium(num)]\n",
    "n = int(input(\"Enter how many Disarium numbers you want: \"))\n",
    "print(f\"First {n} Disarium numbers:\", first_n_disarium(n))\n",
    "start = int(input(\"\\nEnter start of range: \"))\n",
    "end = int(input(\"Enter end of range: \"))\n",
    "print(f\"Disarium numbers between {start} and {end}:\", disarium_in_range(start, end))"
   ]
  }
 ],
 "metadata": {
  "kernelspec": {
   "display_name": "Python 3 (ipykernel)",
   "language": "python",
   "name": "python3"
  },
  "language_info": {
   "name": ""
  }
 },
 "nbformat": 4,
 "nbformat_minor": 5
}
