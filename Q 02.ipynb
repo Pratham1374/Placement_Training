{
 "cells": [
  {
   "cell_type": "code",
   "execution_count": 1,
   "id": "8adfe5a9-d8c1-42f0-879d-158f7e2b0ffa",
   "metadata": {},
   "outputs": [
    {
     "name": "stdout",
     "output_type": "stream",
     "text": [
      "11112\n",
      "32222\n",
      "33334\n",
      "54444\n",
      "55556\n"
     ]
    }
   ],
   "source": [
    "def print_pattern():\n",
    "  pattern = [\n",
    "      \"11112\",\n",
    "      \"32222\",\n",
    "      \"33334\",\n",
    "      \"54444\",\n",
    "      \"55556\"\n",
    "  ]\n",
    "  for row in pattern:\n",
    "    print(row)\n",
    "print_pattern()"
   ]
  },
  {
   "cell_type": "code",
   "execution_count": null,
   "id": "170d0411-f777-457f-a04f-74caf3d858f0",
   "metadata": {},
   "outputs": [],
   "source": []
  }
 ],
 "metadata": {
  "kernelspec": {
   "display_name": "Python 3 (ipykernel)",
   "language": "python",
   "name": "python3"
  },
  "language_info": {
   "codemirror_mode": {
    "name": "ipython",
    "version": 3
   },
   "file_extension": ".py",
   "mimetype": "text/x-python",
   "name": "python",
   "nbconvert_exporter": "python",
   "pygments_lexer": "ipython3",
   "version": "3.12.7"
  }
 },
 "nbformat": 4,
 "nbformat_minor": 5
}
