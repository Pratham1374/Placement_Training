{
 "cells": [
  {
   "cell_type": "code",
   "execution_count": 1,
   "id": "ae68d6f8-17cd-4757-a992-679ff772a8a8",
   "metadata": {},
   "outputs": [
    {
     "name": "stdout",
     "output_type": "stream",
     "text": [
      "The maximum stolen value is:20\n"
     ]
    }
   ],
   "source": [
    "def max_stolen_value(houses):\n",
    "    n=len(houses)\n",
    "    if n==0:\n",
    "        return 0\n",
    "    if n==1:\n",
    "        return houses[0]\n",
    "    dp=[0]*n\n",
    "    dp[0]=houses[0]\n",
    "    dp[1]=max(houses[0],houses[1])\n",
    "    for i in range(2, n):\n",
    "        dp[i]=max(dp[i-1],dp[i-2]+houses[i])    \n",
    "    return dp[n-1]\n",
    "val=[6, 7, 1, 3, 8, 2, 5]\n",
    "max_value=max_stolen_value(val)\n",
    "print(f\"The maximum stolen value is:{max_value}\")"
   ]
  },
  {
   "cell_type": "code",
   "execution_count": null,
   "id": "cd0eea4c-eee5-4c7e-b5bf-2c30faeac595",
   "metadata": {},
   "outputs": [],
   "source": []
  }
 ],
 "metadata": {
  "kernelspec": {
   "display_name": "Python 3 (ipykernel)",
   "language": "python",
   "name": "python3"
  },
  "language_info": {
   "codemirror_mode": {
    "name": "ipython",
    "version": 3
   },
   "file_extension": ".py",
   "mimetype": "text/x-python",
   "name": "python",
   "nbconvert_exporter": "python",
   "pygments_lexer": "ipython3",
   "version": "3.12.7"
  }
 },
 "nbformat": 4,
 "nbformat_minor": 5
}
